{
 "cells": [
  {
   "cell_type": "code",
   "execution_count": 2,
   "metadata": {},
   "outputs": [],
   "source": [
    "import pandas as pd\n",
    "import matplotlib.pyplot as plt\n",
    "import seaborn as sns"
   ]
  },
  {
   "cell_type": "code",
   "execution_count": 3,
   "metadata": {},
   "outputs": [
    {
     "data": {
      "text/html": [
       "<div>\n",
       "<style scoped>\n",
       "    .dataframe tbody tr th:only-of-type {\n",
       "        vertical-align: middle;\n",
       "    }\n",
       "\n",
       "    .dataframe tbody tr th {\n",
       "        vertical-align: top;\n",
       "    }\n",
       "\n",
       "    .dataframe thead th {\n",
       "        text-align: right;\n",
       "    }\n",
       "</style>\n",
       "<table border=\"1\" class=\"dataframe\">\n",
       "  <thead>\n",
       "    <tr style=\"text-align: right;\">\n",
       "      <th></th>\n",
       "      <th>customer_id</th>\n",
       "      <th>customer_name</th>\n",
       "      <th>age</th>\n",
       "      <th>gender</th>\n",
       "    </tr>\n",
       "  </thead>\n",
       "  <tbody>\n",
       "    <tr>\n",
       "      <th>0</th>\n",
       "      <td>1</td>\n",
       "      <td>Customer 1</td>\n",
       "      <td>25</td>\n",
       "      <td>Male</td>\n",
       "    </tr>\n",
       "    <tr>\n",
       "      <th>1</th>\n",
       "      <td>2</td>\n",
       "      <td>Customer 2</td>\n",
       "      <td>40</td>\n",
       "      <td>Female</td>\n",
       "    </tr>\n",
       "    <tr>\n",
       "      <th>2</th>\n",
       "      <td>3</td>\n",
       "      <td>Customer 3</td>\n",
       "      <td>30</td>\n",
       "      <td>Male</td>\n",
       "    </tr>\n",
       "    <tr>\n",
       "      <th>3</th>\n",
       "      <td>4</td>\n",
       "      <td>Customer 4</td>\n",
       "      <td>33</td>\n",
       "      <td>Male</td>\n",
       "    </tr>\n",
       "    <tr>\n",
       "      <th>4</th>\n",
       "      <td>5</td>\n",
       "      <td>Customer 5</td>\n",
       "      <td>43</td>\n",
       "      <td>Male</td>\n",
       "    </tr>\n",
       "  </tbody>\n",
       "</table>\n",
       "</div>"
      ],
      "text/plain": [
       "   customer_id customer_name  age  gender\n",
       "0            1    Customer 1   25    Male\n",
       "1            2    Customer 2   40  Female\n",
       "2            3    Customer 3   30    Male\n",
       "3            4    Customer 4   33    Male\n",
       "4            5    Customer 5   43    Male"
      ]
     },
     "execution_count": 3,
     "metadata": {},
     "output_type": "execute_result"
    }
   ],
   "source": [
    "customers = pd.read_csv(\"data/customers.csv\")\n",
    "customers.head(5)"
   ]
  },
  {
   "cell_type": "code",
   "execution_count": 4,
   "metadata": {},
   "outputs": [
    {
     "data": {
      "text/html": [
       "<div>\n",
       "<style scoped>\n",
       "    .dataframe tbody tr th:only-of-type {\n",
       "        vertical-align: middle;\n",
       "    }\n",
       "\n",
       "    .dataframe tbody tr th {\n",
       "        vertical-align: top;\n",
       "    }\n",
       "\n",
       "    .dataframe thead th {\n",
       "        text-align: right;\n",
       "    }\n",
       "</style>\n",
       "<table border=\"1\" class=\"dataframe\">\n",
       "  <thead>\n",
       "    <tr style=\"text-align: right;\">\n",
       "      <th></th>\n",
       "      <th>product_id</th>\n",
       "      <th>product_name</th>\n",
       "      <th>category</th>\n",
       "      <th>price</th>\n",
       "    </tr>\n",
       "  </thead>\n",
       "  <tbody>\n",
       "    <tr>\n",
       "      <th>0</th>\n",
       "      <td>1</td>\n",
       "      <td>Product 1</td>\n",
       "      <td>Books</td>\n",
       "      <td>14.02</td>\n",
       "    </tr>\n",
       "    <tr>\n",
       "      <th>1</th>\n",
       "      <td>2</td>\n",
       "      <td>Product 2</td>\n",
       "      <td>Books</td>\n",
       "      <td>291.83</td>\n",
       "    </tr>\n",
       "    <tr>\n",
       "      <th>2</th>\n",
       "      <td>3</td>\n",
       "      <td>Product 3</td>\n",
       "      <td>Books</td>\n",
       "      <td>295.06</td>\n",
       "    </tr>\n",
       "    <tr>\n",
       "      <th>3</th>\n",
       "      <td>4</td>\n",
       "      <td>Product 4</td>\n",
       "      <td>Electronics</td>\n",
       "      <td>228.15</td>\n",
       "    </tr>\n",
       "    <tr>\n",
       "      <th>4</th>\n",
       "      <td>5</td>\n",
       "      <td>Product 5</td>\n",
       "      <td>Furniture</td>\n",
       "      <td>419.20</td>\n",
       "    </tr>\n",
       "  </tbody>\n",
       "</table>\n",
       "</div>"
      ],
      "text/plain": [
       "   product_id product_name     category   price\n",
       "0           1    Product 1        Books   14.02\n",
       "1           2    Product 2        Books  291.83\n",
       "2           3    Product 3        Books  295.06\n",
       "3           4    Product 4  Electronics  228.15\n",
       "4           5    Product 5    Furniture  419.20"
      ]
     },
     "execution_count": 4,
     "metadata": {},
     "output_type": "execute_result"
    }
   ],
   "source": [
    "products = pd.read_csv(\"data/products.csv\")\n",
    "products.head(5)"
   ]
  },
  {
   "cell_type": "code",
   "execution_count": 5,
   "metadata": {},
   "outputs": [
    {
     "data": {
      "text/html": [
       "<div>\n",
       "<style scoped>\n",
       "    .dataframe tbody tr th:only-of-type {\n",
       "        vertical-align: middle;\n",
       "    }\n",
       "\n",
       "    .dataframe tbody tr th {\n",
       "        vertical-align: top;\n",
       "    }\n",
       "\n",
       "    .dataframe thead th {\n",
       "        text-align: right;\n",
       "    }\n",
       "</style>\n",
       "<table border=\"1\" class=\"dataframe\">\n",
       "  <thead>\n",
       "    <tr style=\"text-align: right;\">\n",
       "      <th></th>\n",
       "      <th>store_id</th>\n",
       "      <th>store_name</th>\n",
       "      <th>location</th>\n",
       "    </tr>\n",
       "  </thead>\n",
       "  <tbody>\n",
       "    <tr>\n",
       "      <th>0</th>\n",
       "      <td>1</td>\n",
       "      <td>Store 1</td>\n",
       "      <td>New York</td>\n",
       "    </tr>\n",
       "    <tr>\n",
       "      <th>1</th>\n",
       "      <td>2</td>\n",
       "      <td>Store 2</td>\n",
       "      <td>Los Angeles</td>\n",
       "    </tr>\n",
       "    <tr>\n",
       "      <th>2</th>\n",
       "      <td>3</td>\n",
       "      <td>Store 3</td>\n",
       "      <td>New York</td>\n",
       "    </tr>\n",
       "    <tr>\n",
       "      <th>3</th>\n",
       "      <td>4</td>\n",
       "      <td>Store 4</td>\n",
       "      <td>New York</td>\n",
       "    </tr>\n",
       "    <tr>\n",
       "      <th>4</th>\n",
       "      <td>5</td>\n",
       "      <td>Store 5</td>\n",
       "      <td>Phoenix</td>\n",
       "    </tr>\n",
       "  </tbody>\n",
       "</table>\n",
       "</div>"
      ],
      "text/plain": [
       "   store_id store_name     location\n",
       "0         1    Store 1     New York\n",
       "1         2    Store 2  Los Angeles\n",
       "2         3    Store 3     New York\n",
       "3         4    Store 4     New York\n",
       "4         5    Store 5      Phoenix"
      ]
     },
     "execution_count": 5,
     "metadata": {},
     "output_type": "execute_result"
    }
   ],
   "source": [
    "stores = pd.read_csv(\"data/stores.csv\")\n",
    "stores.head(5)"
   ]
  },
  {
   "cell_type": "code",
   "execution_count": 6,
   "metadata": {},
   "outputs": [
    {
     "data": {
      "text/html": [
       "<div>\n",
       "<style scoped>\n",
       "    .dataframe tbody tr th:only-of-type {\n",
       "        vertical-align: middle;\n",
       "    }\n",
       "\n",
       "    .dataframe tbody tr th {\n",
       "        vertical-align: top;\n",
       "    }\n",
       "\n",
       "    .dataframe thead th {\n",
       "        text-align: right;\n",
       "    }\n",
       "</style>\n",
       "<table border=\"1\" class=\"dataframe\">\n",
       "  <thead>\n",
       "    <tr style=\"text-align: right;\">\n",
       "      <th></th>\n",
       "      <th>transaction_id</th>\n",
       "      <th>customer_id</th>\n",
       "      <th>product_id</th>\n",
       "      <th>store_id</th>\n",
       "      <th>date</th>\n",
       "      <th>amount</th>\n",
       "    </tr>\n",
       "  </thead>\n",
       "  <tbody>\n",
       "    <tr>\n",
       "      <th>0</th>\n",
       "      <td>1</td>\n",
       "      <td>35</td>\n",
       "      <td>8</td>\n",
       "      <td>12</td>\n",
       "      <td>2023-01-01</td>\n",
       "      <td>379.09</td>\n",
       "    </tr>\n",
       "    <tr>\n",
       "      <th>1</th>\n",
       "      <td>2</td>\n",
       "      <td>236</td>\n",
       "      <td>34</td>\n",
       "      <td>16</td>\n",
       "      <td>2023-01-02</td>\n",
       "      <td>18.48</td>\n",
       "    </tr>\n",
       "    <tr>\n",
       "      <th>2</th>\n",
       "      <td>3</td>\n",
       "      <td>334</td>\n",
       "      <td>50</td>\n",
       "      <td>20</td>\n",
       "      <td>2023-01-03</td>\n",
       "      <td>783.51</td>\n",
       "    </tr>\n",
       "    <tr>\n",
       "      <th>3</th>\n",
       "      <td>4</td>\n",
       "      <td>325</td>\n",
       "      <td>46</td>\n",
       "      <td>20</td>\n",
       "      <td>2023-01-04</td>\n",
       "      <td>333.82</td>\n",
       "    </tr>\n",
       "    <tr>\n",
       "      <th>4</th>\n",
       "      <td>5</td>\n",
       "      <td>332</td>\n",
       "      <td>89</td>\n",
       "      <td>6</td>\n",
       "      <td>2023-01-05</td>\n",
       "      <td>329.74</td>\n",
       "    </tr>\n",
       "  </tbody>\n",
       "</table>\n",
       "</div>"
      ],
      "text/plain": [
       "   transaction_id  customer_id  product_id  store_id        date  amount\n",
       "0               1           35           8        12  2023-01-01  379.09\n",
       "1               2          236          34        16  2023-01-02   18.48\n",
       "2               3          334          50        20  2023-01-03  783.51\n",
       "3               4          325          46        20  2023-01-04  333.82\n",
       "4               5          332          89         6  2023-01-05  329.74"
      ]
     },
     "execution_count": 6,
     "metadata": {},
     "output_type": "execute_result"
    }
   ],
   "source": [
    "transactions = pd.read_csv(\"data/transactions.csv\")\n",
    "transactions.head(5)"
   ]
  },
  {
   "cell_type": "code",
   "execution_count": 7,
   "metadata": {},
   "outputs": [],
   "source": [
    "import sqlite3"
   ]
  },
  {
   "cell_type": "code",
   "execution_count": 9,
   "metadata": {},
   "outputs": [],
   "source": [
    "con = sqlite3.connect('sales_data.db')"
   ]
  },
  {
   "cell_type": "code",
   "execution_count": 10,
   "metadata": {},
   "outputs": [
    {
     "data": {
      "text/plain": [
       "1000"
      ]
     },
     "execution_count": 10,
     "metadata": {},
     "output_type": "execute_result"
    }
   ],
   "source": [
    "customers.to_sql(name=\"customers\", con=con, if_exists=\"replace\", index=False)\n",
    "products.to_sql(name=\"products\", con=con, if_exists=\"replace\", index=False)\n",
    "stores.to_sql(name=\"stores\", con=con, if_exists=\"replace\", index=False)\n",
    "transactions.to_sql(name=\"transactions\", con=con, if_exists=\"replace\", index=False)"
   ]
  },
  {
   "cell_type": "code",
   "execution_count": 20,
   "metadata": {},
   "outputs": [
    {
     "name": "stdout",
     "output_type": "stream",
     "text": [
      "\n",
      "Table: customers\n",
      "\n",
      "   cid           name     type  notnull dflt_value  pk\n",
      "0    0    customer_id  INTEGER        0       None   0\n",
      "1    1  customer_name     TEXT        0       None   0\n",
      "2    2            age  INTEGER        0       None   0\n",
      "3    3         gender     TEXT        0       None   0\n",
      "\n",
      "Table: products\n",
      "\n",
      "   cid          name     type  notnull dflt_value  pk\n",
      "0    0    product_id  INTEGER        0       None   0\n",
      "1    1  product_name     TEXT        0       None   0\n",
      "2    2      category     TEXT        0       None   0\n",
      "3    3         price     REAL        0       None   0\n",
      "\n",
      "Table: stores\n",
      "\n",
      "   cid        name     type  notnull dflt_value  pk\n",
      "0    0    store_id  INTEGER        0       None   0\n",
      "1    1  store_name     TEXT        0       None   0\n",
      "2    2    location     TEXT        0       None   0\n",
      "\n",
      "Table: transactions\n",
      "\n",
      "   cid            name     type  notnull dflt_value  pk\n",
      "0    0  transaction_id  INTEGER        0       None   0\n",
      "1    1     customer_id  INTEGER        0       None   0\n",
      "2    2      product_id  INTEGER        0       None   0\n",
      "3    3        store_id  INTEGER        0       None   0\n",
      "4    4            date     TEXT        0       None   0\n",
      "5    5          amount     REAL        0       None   0\n"
     ]
    }
   ],
   "source": [
    "tables = ['customers', 'products', 'stores', 'transactions']\n",
    "\n",
    "table_info_dict = {}\n",
    "\n",
    "for table in tables:\n",
    "    query = f\"PRAGMA table_info({table});\"\n",
    "    result = pd.read_sql_query(query, con)\n",
    "    table_info_dict[table] = result\n",
    "\n",
    "for table, df in table_info_dict.items():\n",
    "    print(f\"\\nTable: {table}\\n\")\n",
    "    print(df)"
   ]
  },
  {
   "cell_type": "code",
   "execution_count": 26,
   "metadata": {},
   "outputs": [
    {
     "data": {
      "text/html": [
       "<div>\n",
       "<style scoped>\n",
       "    .dataframe tbody tr th:only-of-type {\n",
       "        vertical-align: middle;\n",
       "    }\n",
       "\n",
       "    .dataframe tbody tr th {\n",
       "        vertical-align: top;\n",
       "    }\n",
       "\n",
       "    .dataframe thead th {\n",
       "        text-align: right;\n",
       "    }\n",
       "</style>\n",
       "<table border=\"1\" class=\"dataframe\">\n",
       "  <thead>\n",
       "    <tr style=\"text-align: right;\">\n",
       "      <th></th>\n",
       "      <th>transaction_id</th>\n",
       "      <th>count</th>\n",
       "    </tr>\n",
       "  </thead>\n",
       "  <tbody>\n",
       "  </tbody>\n",
       "</table>\n",
       "</div>"
      ],
      "text/plain": [
       "Empty DataFrame\n",
       "Columns: [transaction_id, count]\n",
       "Index: []"
      ]
     },
     "execution_count": 26,
     "metadata": {},
     "output_type": "execute_result"
    }
   ],
   "source": [
    "query = '''SELECT transaction_id,COUNT(*) AS count\n",
    "FROM transactions\n",
    "GROUP BY transaction_id\n",
    "HAVING COUNT(*) > 1'''\n",
    "result = pd.read_sql_query(query, con)\n",
    "result"
   ]
  },
  {
   "cell_type": "code",
   "execution_count": 24,
   "metadata": {},
   "outputs": [
    {
     "name": "stdout",
     "output_type": "stream",
     "text": [
      "\n",
      "Table: customers\n",
      "Primary Keys: []\n",
      "Foreign Keys:\n",
      "{'cid': 0, 'name': 'customer_id', 'type': 'INTEGER', 'notnull': 0, 'dflt_value': None, 'pk': 0}\n",
      "{'cid': 1, 'name': 'customer_name', 'type': 'TEXT', 'notnull': 0, 'dflt_value': None, 'pk': 0}\n",
      "{'cid': 2, 'name': 'age', 'type': 'INTEGER', 'notnull': 0, 'dflt_value': None, 'pk': 0}\n",
      "{'cid': 3, 'name': 'gender', 'type': 'TEXT', 'notnull': 0, 'dflt_value': None, 'pk': 0}\n",
      "\n",
      "Table: products\n",
      "Primary Keys: []\n",
      "Foreign Keys:\n",
      "{'cid': 0, 'name': 'product_id', 'type': 'INTEGER', 'notnull': 0, 'dflt_value': None, 'pk': 0}\n",
      "{'cid': 1, 'name': 'product_name', 'type': 'TEXT', 'notnull': 0, 'dflt_value': None, 'pk': 0}\n",
      "{'cid': 2, 'name': 'category', 'type': 'TEXT', 'notnull': 0, 'dflt_value': None, 'pk': 0}\n",
      "{'cid': 3, 'name': 'price', 'type': 'REAL', 'notnull': 0, 'dflt_value': None, 'pk': 0}\n",
      "\n",
      "Table: stores\n",
      "Primary Keys: []\n",
      "Foreign Keys:\n",
      "{'cid': 0, 'name': 'store_id', 'type': 'INTEGER', 'notnull': 0, 'dflt_value': None, 'pk': 0}\n",
      "{'cid': 1, 'name': 'store_name', 'type': 'TEXT', 'notnull': 0, 'dflt_value': None, 'pk': 0}\n",
      "{'cid': 2, 'name': 'location', 'type': 'TEXT', 'notnull': 0, 'dflt_value': None, 'pk': 0}\n",
      "\n",
      "Table: transactions\n",
      "Primary Keys: []\n",
      "Foreign Keys:\n",
      "{'cid': 0, 'name': 'transaction_id', 'type': 'INTEGER', 'notnull': 0, 'dflt_value': None, 'pk': 0}\n",
      "{'cid': 1, 'name': 'customer_id', 'type': 'INTEGER', 'notnull': 0, 'dflt_value': None, 'pk': 0}\n",
      "{'cid': 2, 'name': 'product_id', 'type': 'INTEGER', 'notnull': 0, 'dflt_value': None, 'pk': 0}\n",
      "{'cid': 3, 'name': 'store_id', 'type': 'INTEGER', 'notnull': 0, 'dflt_value': None, 'pk': 0}\n",
      "{'cid': 4, 'name': 'date', 'type': 'TEXT', 'notnull': 0, 'dflt_value': None, 'pk': 0}\n",
      "{'cid': 5, 'name': 'amount', 'type': 'REAL', 'notnull': 0, 'dflt_value': None, 'pk': 0}\n"
     ]
    }
   ],
   "source": [
    "key_info = {}\n",
    "\n",
    "for table in tables:\n",
    "    primary_query = f\"PRAGMA table_info({table});\"\n",
    "    primary_info = pd.read_sql_query(primary_query, con)\n",
    "\n",
    "    primary_keys = primary_info[primary_info['pk'] == 1]['name'].tolist()\n",
    "\n",
    "    foreign_query = f\"PRAGMA table_info({table});\"\n",
    "    foreign_info = pd.read_sql_query(foreign_query, con) \n",
    "\n",
    "    key_info[table] = {\n",
    "        'primary_keys': primary_keys,\n",
    "        'foreign_keys': foreign_info.to_dict(orient='records') \n",
    "    }\n",
    "\n",
    "for table, keys in key_info.items():\n",
    "    print(f\"\\nTable: {table}\")\n",
    "    print(f\"Primary Keys: {keys['primary_keys']}\")\n",
    "    print(\"Foreign Keys:\")\n",
    "    for fk in keys['foreign_keys']:\n",
    "        print(fk)"
   ]
  },
  {
   "cell_type": "code",
   "execution_count": 27,
   "metadata": {},
   "outputs": [
    {
     "name": "stdout",
     "output_type": "stream",
     "text": [
      "Clés étrangères pour la table customers:\n",
      "Empty DataFrame\n",
      "Columns: [id, seq, table, from, to, on_update, on_delete, match]\n",
      "Index: []\n",
      "Clés étrangères pour la table products:\n",
      "Empty DataFrame\n",
      "Columns: [id, seq, table, from, to, on_update, on_delete, match]\n",
      "Index: []\n",
      "Clés étrangères pour la table stores:\n",
      "Empty DataFrame\n",
      "Columns: [id, seq, table, from, to, on_update, on_delete, match]\n",
      "Index: []\n",
      "Clés étrangères pour la table transactions:\n",
      "Empty DataFrame\n",
      "Columns: [id, seq, table, from, to, on_update, on_delete, match]\n",
      "Index: []\n"
     ]
    }
   ],
   "source": [
    "for table in tables:\n",
    "    query = f\"PRAGMA foreign_key_list({table});\"\n",
    "    result = pd.read_sql(query, con)\n",
    "    print(f\"Clés étrangères pour la table {table}:\")\n",
    "    print(result)"
   ]
  },
  {
   "cell_type": "code",
   "execution_count": 30,
   "metadata": {},
   "outputs": [
    {
     "name": "stdout",
     "output_type": "stream",
     "text": [
      "Toutes les dates sont valides.\n"
     ]
    }
   ],
   "source": [
    "query = '''\n",
    "SELECT date\n",
    "FROM transactions\n",
    "WHERE date(date) IS NOT NULL\n",
    "AND date(date) IS NULL'''\n",
    "\n",
    "invalid_dates = pd.read_sql(query, con)\n",
    "\n",
    "if not invalid_dates.empty:\n",
    "    print(\"Les valeurs suivantes ne sont pas des dates valides:\")\n",
    "    print(invalid_dates)\n",
    "else:\n",
    "    print(\"Toutes les dates sont valides.\")"
   ]
  },
  {
   "cell_type": "code",
   "execution_count": 31,
   "metadata": {},
   "outputs": [
    {
     "name": "stdout",
     "output_type": "stream",
     "text": [
      "Nombre de valeurs nulles dans chaque colonne:\n",
      "   null_customer_id  null_product_id  null_store_id\n",
      "0                 0                0              0\n"
     ]
    }
   ],
   "source": [
    "query = ''' \n",
    "SELECT \n",
    "    SUM(CASE WHEN customer_id IS NULL THEN 1 ELSE 0 END) AS null_customer_id,\n",
    "    SUM(CASE WHEN product_id IS NULL THEN 1 ELSE 0 END) AS null_product_id,\n",
    "    SUM(CASE WHEN store_id IS NULL THEN 1 ELSE 0 END) AS null_store_id\n",
    "FROM transactions;\n",
    "'''\n",
    "\n",
    "result = pd.read_sql_query(query, con)\n",
    "print(\"Nombre de valeurs nulles dans chaque colonne:\")\n",
    "print(result)"
   ]
  },
  {
   "cell_type": "code",
   "execution_count": 40,
   "metadata": {},
   "outputs": [
    {
     "name": "stdout",
     "output_type": "stream",
     "text": [
      "     store_id store_name  location  transaction_id  customer_id  product_id  \\\n",
      "0           1    Store 1  New York               7          146          78   \n",
      "1           1    Store 1  New York              12          500          81   \n",
      "2           1    Store 1  New York              29           70          52   \n",
      "3           1    Store 1  New York              51          400          62   \n",
      "4           1    Store 1  New York              76          452          29   \n",
      "..        ...        ...       ...             ...          ...         ...   \n",
      "396        20   Store 20  New York             937          104          88   \n",
      "397        20   Store 20  New York             941          370          74   \n",
      "398        20   Store 20  New York             960          497           2   \n",
      "399        20   Store 20  New York             978          292          95   \n",
      "400        20   Store 20  New York             990          399          58   \n",
      "\n",
      "     store_id        date  amount  \n",
      "0           1  2023-01-07   48.99  \n",
      "1           1  2023-01-12   11.31  \n",
      "2           1  2023-01-29  290.12  \n",
      "3           1  2023-02-20  733.48  \n",
      "4           1  2023-03-17  277.07  \n",
      "..        ...         ...     ...  \n",
      "396        20  2025-07-25  905.52  \n",
      "397        20  2025-07-29  308.36  \n",
      "398        20  2025-08-17  127.38  \n",
      "399        20  2025-09-04  218.93  \n",
      "400        20  2025-09-16  514.18  \n",
      "\n",
      "[401 rows x 9 columns]\n"
     ]
    }
   ],
   "source": [
    "# transactions made in NY store\n",
    "query = ''' \n",
    "SELECT *\n",
    "FROM stores\n",
    "INNER JOIN transactions ON stores.store_id = transactions.store_id\n",
    "WHERE stores.location = 'New York';  -- Assure-toi que le magasin est à NY\n",
    "'''\n",
    "result = pd.read_sql_query(query, con)\n",
    "print(result)"
   ]
  },
  {
   "cell_type": "code",
   "execution_count": 45,
   "metadata": {},
   "outputs": [
    {
     "name": "stdout",
     "output_type": "stream",
     "text": [
      "  product_name\n",
      "0    Product 8\n",
      "1   Product 96\n"
     ]
    }
   ],
   "source": [
    "# list of products names buying by customer_id 35\n",
    "query = ''' \n",
    "SELECT product_name\n",
    "FROM transactions\n",
    "INNER JOIN products ON transactions.product_id = products.product_id\n",
    "WHERE transactions.customer_id = 35\n",
    "'''\n",
    "\n",
    "result = pd.read_sql_query(query, con)\n",
    "print(result)"
   ]
  },
  {
   "cell_type": "code",
   "execution_count": 47,
   "metadata": {},
   "outputs": [
    {
     "name": "stdout",
     "output_type": "stream",
     "text": [
      "      category\n",
      "0        Books\n",
      "1     Clothing\n",
      "2  Electronics\n",
      "3    Furniture\n"
     ]
    }
   ],
   "source": [
    "# list of different type category of available products\n",
    "query = ''' \n",
    "SELECT category\n",
    "FROM products\n",
    "GROUP BY category\n",
    "'''\n",
    "\n",
    "result = pd.read_sql_query(query, con)\n",
    "print(result)"
   ]
  },
  {
   "cell_type": "code",
   "execution_count": 51,
   "metadata": {},
   "outputs": [
    {
     "name": "stdout",
     "output_type": "stream",
     "text": [
      "   SUM(amount)\n",
      "0     26796.29\n"
     ]
    }
   ],
   "source": [
    "# find total amount of transactions for the store_id 12\n",
    "query = ''' \n",
    "SELECT SUM(amount)\n",
    "FROM transactions\n",
    "WHERE store_id = 12\n",
    "'''\n",
    "\n",
    "result = pd.read_sql_query(query, con)\n",
    "print(result)"
   ]
  },
  {
   "cell_type": "code",
   "execution_count": 55,
   "metadata": {},
   "outputs": [
    {
     "name": "stdout",
     "output_type": "stream",
     "text": [
      "     customer_id customer_name  age  gender\n",
      "0              2    Customer 2   40  Female\n",
      "1              7    Customer 7   55  Female\n",
      "2              9    Customer 9   51  Female\n",
      "3             10   Customer 10   22  Female\n",
      "4             11   Customer 11   69  Female\n",
      "..           ...           ...  ...     ...\n",
      "226          490  Customer 490   53  Female\n",
      "227          494  Customer 494   35  Female\n",
      "228          496  Customer 496   59  Female\n",
      "229          497  Customer 497   50  Female\n",
      "230          500  Customer 500   69  Female\n",
      "\n",
      "[231 rows x 4 columns]\n"
     ]
    }
   ],
   "source": [
    "# list of female customers \n",
    "query = ''' \n",
    "SELECT *\n",
    "FROM customers\n",
    "WHERE gender = \"Female\"\n",
    "'''\n",
    "\n",
    "result = pd.read_sql_query(query, con)\n",
    "print(result)"
   ]
  },
  {
   "cell_type": "code",
   "execution_count": 62,
   "metadata": {},
   "outputs": [
    {
     "name": "stdout",
     "output_type": "stream",
     "text": [
      "    AVG(amount) store_name\n",
      "0    532.130000    Store 1\n",
      "1    504.817115   Store 10\n",
      "2    453.278361   Store 11\n",
      "3    546.863061   Store 12\n",
      "4    569.012857   Store 13\n",
      "5    479.562745   Store 14\n",
      "6    478.972679   Store 15\n",
      "7    493.564167   Store 16\n",
      "8    546.908519   Store 17\n",
      "9    602.175526   Store 18\n",
      "10   570.356531   Store 19\n",
      "11   496.529592    Store 2\n",
      "12   496.091786   Store 20\n",
      "13   481.485789    Store 3\n",
      "14   563.986364    Store 4\n",
      "15   614.618200    Store 5\n",
      "16   465.471190    Store 6\n",
      "17   503.759412    Store 7\n",
      "18   461.190196    Store 8\n",
      "19   465.133200    Store 9\n"
     ]
    }
   ],
   "source": [
    "# calculate mid amount of transaction per store\n",
    "query = ''' \n",
    "SELECT AVG(amount), stores.store_name\n",
    "FROM transactions\n",
    "INNER JOIN stores ON transactions.store_id = stores.store_id\n",
    "GROUP BY stores.store_name\n",
    "'''\n",
    "\n",
    "result = pd.read_sql_query(query, con)\n",
    "print(result)"
   ]
  },
  {
   "cell_type": "code",
   "execution_count": 68,
   "metadata": {},
   "outputs": [
    {
     "name": "stdout",
     "output_type": "stream",
     "text": [
      "   total_CA store_name\n",
      "0  30730.91    Store 5\n"
     ]
    }
   ],
   "source": [
    "# find store which make the higher CA\n",
    "query = ''' \n",
    "SELECT SUM(transactions.amount) AS total_CA, stores.store_name\n",
    "FROM transactions\n",
    "INNER JOIN stores ON transactions.store_id = stores.store_id\n",
    "GROUP BY stores.store_name\n",
    "ORDER BY total_CA DESC\n",
    "LIMIT 1\n",
    "'''\n",
    "\n",
    "result = pd.read_sql_query(query, con)\n",
    "print(result)"
   ]
  },
  {
   "cell_type": "code",
   "execution_count": 69,
   "metadata": {},
   "outputs": [
    {
     "name": "stdout",
     "output_type": "stream",
     "text": [
      "     SUM(transactions.amount) customer_name\n",
      "0                     2528.13    Customer 1\n",
      "1                     1854.36   Customer 10\n",
      "2                     2295.63  Customer 101\n",
      "3                      682.86  Customer 102\n",
      "4                      417.31  Customer 103\n",
      "..                        ...           ...\n",
      "434                   2541.37   Customer 95\n",
      "435                    565.53   Customer 96\n",
      "436                    403.17   Customer 97\n",
      "437                   1101.91   Customer 98\n",
      "438                   1943.84   Customer 99\n",
      "\n",
      "[439 rows x 2 columns]\n"
     ]
    }
   ],
   "source": [
    "# calculate total amount from each customers\n",
    "query = ''' \n",
    "SELECT SUM(transactions.amount), customers.customer_name\n",
    "FROM transactions\n",
    "INNER JOIN customers ON transactions.customer_id = customers.customer_id\n",
    "GROUP BY customers.customer_name\n",
    "'''\n",
    "\n",
    "result = pd.read_sql_query(query, con)\n",
    "print(result)"
   ]
  },
  {
   "cell_type": "code",
   "execution_count": 73,
   "metadata": {},
   "outputs": [
    {
     "name": "stdout",
     "output_type": "stream",
     "text": [
      "  product_name  number_transactions\n",
      "0   Product 45                   20\n"
     ]
    }
   ],
   "source": [
    "# find product with the most sellings (quantity)\n",
    "query = ''' \n",
    "SELECT products.product_name, count(*) AS number_transactions\n",
    "FROM products\n",
    "INNER JOIN transactions ON transactions.product_id = products.product_id\n",
    "GROUP BY products.product_name\n",
    "ORDER BY number_transactions DESC\n",
    "LIMIT 1\n",
    "'''\n",
    "\n",
    "result = pd.read_sql_query(query, con)\n",
    "print(result)"
   ]
  },
  {
   "cell_type": "code",
   "execution_count": 77,
   "metadata": {},
   "outputs": [
    {
     "name": "stdout",
     "output_type": "stream",
     "text": [
      "   SUM(transactions.amount)     category\n",
      "0                 151828.24        Books\n",
      "1                 108614.35     Clothing\n",
      "2                 125958.34  Electronics\n",
      "3                 127514.47    Furniture\n"
     ]
    }
   ],
   "source": [
    "# list products categories and total amount of sellings per categories\n",
    "query = ''' \n",
    "SELECT SUM(transactions.amount), products.category\n",
    "FROM transactions\n",
    "INNER JOIN products ON transactions.product_id = products.product_id\n",
    "GROUP BY products.category\n",
    "'''\n",
    "\n",
    "result = pd.read_sql_query(query, con)\n",
    "print(result)"
   ]
  },
  {
   "cell_type": "code",
   "execution_count": 83,
   "metadata": {},
   "outputs": [
    {
     "name": "stdout",
     "output_type": "stream",
     "text": [
      "   customer_id  COUNT (transactions.transaction_id)\n",
      "0           61                                    6\n",
      "1          141                                    6\n",
      "2          277                                    6\n"
     ]
    }
   ],
   "source": [
    "# customers who makes + 5 transactions\n",
    "query = ''' \n",
    "SELECT customers.customer_id, COUNT (transactions.transaction_id)\n",
    "FROM customers\n",
    "INNER JOIN transactions ON customers.customer_id = transactions.customer_id\n",
    "GROUP BY customers.customer_id\n",
    "HAVING COUNT(transactions.transaction_id) > 5\n",
    "'''\n",
    "\n",
    "result = pd.read_sql_query(query, con)\n",
    "print(result)"
   ]
  },
  {
   "cell_type": "code",
   "execution_count": 93,
   "metadata": {},
   "outputs": [
    {
     "name": "stdout",
     "output_type": "stream",
     "text": [
      "   product_name  SUM(transactions.amount)\n",
      "0     Product 1                   4334.66\n",
      "1    Product 10                   2154.66\n",
      "2   Product 100                   2560.02\n",
      "3    Product 11                   4129.52\n",
      "4    Product 12                   4236.36\n",
      "..          ...                       ...\n",
      "95   Product 95                   4382.96\n",
      "96   Product 96                   6980.49\n",
      "97   Product 97                   6947.89\n",
      "98   Product 98                   4940.70\n",
      "99   Product 99                   5780.27\n",
      "\n",
      "[100 rows x 2 columns]\n"
     ]
    }
   ],
   "source": [
    "# find products which make over 1000 total sells\n",
    "query = ''' \n",
    "SELECT products.product_name, SUM(transactions.amount)\n",
    "FROM products\n",
    "INNER JOIN transactions ON products.product_id = transactions.product_id\n",
    "GROUP BY products.product_name\n",
    "HAVING SUM(transactions.amount) > 1000\n",
    "'''\n",
    "\n",
    "result = pd.read_sql_query(query, con)\n",
    "print(result)"
   ]
  },
  {
   "cell_type": "code",
   "execution_count": 94,
   "metadata": {},
   "outputs": [
    {
     "name": "stdout",
     "output_type": "stream",
     "text": [
      "   store_name  AVG(transactions.amount)\n",
      "0     Store 1                532.130000\n",
      "1    Store 10                504.817115\n",
      "2    Store 11                453.278361\n",
      "3    Store 12                546.863061\n",
      "4    Store 13                569.012857\n",
      "5    Store 14                479.562745\n",
      "6    Store 15                478.972679\n",
      "7    Store 16                493.564167\n",
      "8    Store 17                546.908519\n",
      "9    Store 18                602.175526\n",
      "10   Store 19                570.356531\n",
      "11    Store 2                496.529592\n",
      "12   Store 20                496.091786\n",
      "13    Store 3                481.485789\n",
      "14    Store 4                563.986364\n",
      "15    Store 5                614.618200\n",
      "16    Store 6                465.471190\n",
      "17    Store 7                503.759412\n",
      "18    Store 8                461.190196\n",
      "19    Store 9                465.133200\n"
     ]
    }
   ],
   "source": [
    "# list of stores with average amount transaction > 200 \n",
    "query = ''' \n",
    "SELECT store_name, AVG(transactions.amount)\n",
    "FROM stores\n",
    "INNER JOIN transactions ON stores.store_id = transactions.store_id\n",
    "GROUP BY stores.store_name\n",
    "HAVING AVG(transactions.amount) > 200\n",
    "'''\n",
    "\n",
    "result = pd.read_sql_query(query, con)\n",
    "print(result)"
   ]
  },
  {
   "cell_type": "code",
   "execution_count": 102,
   "metadata": {},
   "outputs": [
    {
     "name": "stdout",
     "output_type": "stream",
     "text": [
      "   product_name  SUM(transactions.amount)\n",
      "0     Product 1                   4334.66\n",
      "1    Product 14                   7558.51\n",
      "2     Product 2                   5735.32\n",
      "3    Product 20                   5097.30\n",
      "4     Product 3                   5909.48\n",
      "5    Product 31                   3538.25\n",
      "6    Product 33                   6547.09\n",
      "7    Product 39                   7603.02\n",
      "8    Product 42                   7611.42\n",
      "9    Product 47                   2999.79\n",
      "10   Product 50                   4482.85\n",
      "11   Product 52                   5492.80\n",
      "12   Product 54                   7047.71\n",
      "13   Product 55                   4650.90\n",
      "14   Product 56                   1982.06\n",
      "15    Product 6                   3147.49\n",
      "16   Product 61                   7822.99\n",
      "17   Product 62                   6269.32\n",
      "18   Product 65                   3846.50\n",
      "19   Product 69                   4718.06\n",
      "20   Product 72                   5466.35\n",
      "21   Product 73                   3885.76\n",
      "22   Product 79                   8666.74\n",
      "23    Product 8                   4192.44\n",
      "24   Product 86                   4495.20\n",
      "25    Product 9                   7749.04\n",
      "26   Product 94                   6036.49\n",
      "27   Product 98                   4940.70\n"
     ]
    }
   ],
   "source": [
    "# list books products, with over 500 sells\n",
    "query = ''' \n",
    "SELECT products.product_name, SUM(transactions.amount)\n",
    "FROM products\n",
    "INNER JOIN transactions ON products.product_id = transactions.product_id\n",
    "WHERE products.category = 'Books'\n",
    "GROUP BY products.product_name\n",
    "HAVING SUM(transactions.amount) > 500\n",
    "'''\n",
    "\n",
    "result = pd.read_sql_query(query, con)\n",
    "print(result)"
   ]
  },
  {
   "cell_type": "code",
   "execution_count": 104,
   "metadata": {},
   "outputs": [
    {
     "name": "stdout",
     "output_type": "stream",
     "text": [
      "    customer_name  SUM(transactions.amount)\n",
      "0      Customer 1                   2528.13\n",
      "1     Customer 10                   1854.36\n",
      "2    Customer 101                   2295.63\n",
      "3    Customer 104                   1275.28\n",
      "4    Customer 105                   1188.55\n",
      "..            ...                       ...\n",
      "217    Customer 9                   1039.92\n",
      "218   Customer 93                   1385.94\n",
      "219   Customer 95                   2541.37\n",
      "220   Customer 98                   1101.91\n",
      "221   Customer 99                   1943.84\n",
      "\n",
      "[222 rows x 2 columns]\n"
     ]
    }
   ],
   "source": [
    "# find customers with over 1000 total expense\n",
    "query = ''' \n",
    "SELECT customer_name, SUM(transactions.amount)\n",
    "FROM customers\n",
    "INNER JOIN transactions ON customers.customer_id = transactions.customer_id\n",
    "GROUP BY customers.customer_name\n",
    "HAVING SUM(transactions.amount) > 1000\n",
    "'''\n",
    "\n",
    "result = pd.read_sql_query(query, con)\n",
    "print(result)"
   ]
  },
  {
   "cell_type": "code",
   "execution_count": 107,
   "metadata": {},
   "outputs": [
    {
     "name": "stdout",
     "output_type": "stream",
     "text": [
      "   year  transaction_count\n",
      "0  2023                365\n",
      "1  2024                366\n",
      "2  2025                269\n"
     ]
    }
   ],
   "source": [
    "# extract year of the date transactions + count number of transactions per year\n",
    "query = ''' \n",
    "SELECT strftime('%Y', date) AS year, COUNT(*) AS transaction_count\n",
    "FROM transactions\n",
    "GROUP BY year\n",
    "ORDER BY year\n",
    "'''\n",
    "\n",
    "result = pd.read_sql_query(query, con)\n",
    "print(result)"
   ]
  },
  {
   "cell_type": "code",
   "execution_count": 114,
   "metadata": {},
   "outputs": [
    {
     "name": "stdout",
     "output_type": "stream",
     "text": [
      "         customer_info\n",
      "0      Customer 1 (25)\n",
      "1      Customer 2 (40)\n",
      "2      Customer 3 (30)\n",
      "3      Customer 4 (33)\n",
      "4      Customer 5 (43)\n",
      "..                 ...\n",
      "495  Customer 496 (59)\n",
      "496  Customer 497 (50)\n",
      "497  Customer 498 (51)\n",
      "498  Customer 499 (35)\n",
      "499  Customer 500 (69)\n",
      "\n",
      "[500 rows x 1 columns]\n"
     ]
    }
   ],
   "source": [
    "# concatenate name's client with his age\n",
    "query = ''' \n",
    "SELECT customer_name || ' (' || age || ')' AS customer_info\n",
    "FROM customers;\n",
    "'''\n",
    "\n",
    "result = pd.read_sql_query(query, con)\n",
    "print(result)"
   ]
  },
  {
   "cell_type": "code",
   "execution_count": 117,
   "metadata": {},
   "outputs": [
    {
     "name": "stdout",
     "output_type": "stream",
     "text": [
      "   REPLACE(product_name, ' ', '_')\n",
      "0                        Product_1\n",
      "1                        Product_2\n",
      "2                        Product_3\n",
      "3                        Product_4\n",
      "4                        Product_5\n",
      "..                             ...\n",
      "95                      Product_96\n",
      "96                      Product_97\n",
      "97                      Product_98\n",
      "98                      Product_99\n",
      "99                     Product_100\n",
      "\n",
      "[100 rows x 1 columns]\n"
     ]
    }
   ],
   "source": [
    "# replace all spaces with underscores in name products\n",
    "query = ''' \n",
    "SELECT REPLACE(product_name, ' ', '_')\n",
    "FROM products;\n",
    "'''\n",
    "\n",
    "result = pd.read_sql_query(query, con)\n",
    "print(result)\n"
   ]
  },
  {
   "cell_type": "code",
   "execution_count": 118,
   "metadata": {},
   "outputs": [
    {
     "name": "stdout",
     "output_type": "stream",
     "text": [
      "   UPPER(store_name)\n",
      "0            STORE 1\n",
      "1            STORE 2\n",
      "2            STORE 3\n",
      "3            STORE 4\n",
      "4            STORE 5\n",
      "5            STORE 6\n",
      "6            STORE 7\n",
      "7            STORE 8\n",
      "8            STORE 9\n",
      "9           STORE 10\n",
      "10          STORE 11\n",
      "11          STORE 12\n",
      "12          STORE 13\n",
      "13          STORE 14\n",
      "14          STORE 15\n",
      "15          STORE 16\n",
      "16          STORE 17\n",
      "17          STORE 18\n",
      "18          STORE 19\n",
      "19          STORE 20\n"
     ]
    }
   ],
   "source": [
    "# convert the store names to uppercase\n",
    "query = ''' \n",
    "SELECT UPPER(store_name)\n",
    "FROM stores\n",
    "'''\n",
    "\n",
    "result = pd.read_sql_query(query, con)\n",
    "print(result)"
   ]
  },
  {
   "cell_type": "code",
   "execution_count": 122,
   "metadata": {},
   "outputs": [
    {
     "name": "stdout",
     "output_type": "stream",
     "text": [
      "     transaction_id  customer_id  product_id  store_id        date  amount  \\\n",
      "0                 1           35           8        12  2023-01-01  379.09   \n",
      "1                 2          236          34        16  2023-01-02   18.48   \n",
      "2                 3          334          50        20  2023-01-03  783.51   \n",
      "3                 4          325          46        20  2023-01-04  333.82   \n",
      "4                 5          332          89         6  2023-01-05  329.74   \n",
      "..              ...          ...         ...       ...         ...     ...   \n",
      "995             996          271          62         8  2025-09-22  268.09   \n",
      "996             997          380           9         4  2025-09-23  829.86   \n",
      "997             998           46          22        14  2025-09-24  603.12   \n",
      "998             999            2          85         8  2025-09-25  882.43   \n",
      "999            1000          253           4         8  2025-09-26  365.28   \n",
      "\n",
      "    store_name  \n",
      "0     Store 12  \n",
      "1     Store 16  \n",
      "2     Store 20  \n",
      "3     Store 20  \n",
      "4      Store 6  \n",
      "..         ...  \n",
      "995    Store 8  \n",
      "996    Store 4  \n",
      "997   Store 14  \n",
      "998    Store 8  \n",
      "999    Store 8  \n",
      "\n",
      "[1000 rows x 7 columns]\n"
     ]
    }
   ],
   "source": [
    "# join transaction table with store table + display the store name for each transaction \n",
    "query = ''' \n",
    "SELECT transactions.*, stores.store_name\n",
    "FROM transactions\n",
    "INNER JOIN stores ON stores.store_id = transactions.store_id\n",
    "'''\n",
    "\n",
    "result = pd.read_sql_query(query, con)\n",
    "print(result)"
   ]
  },
  {
   "cell_type": "code",
   "execution_count": 123,
   "metadata": {},
   "outputs": [
    {
     "name": "stdout",
     "output_type": "stream",
     "text": [
      "     transaction_id  customer_id  product_id  store_id        date  amount  \\\n",
      "0                 1           35           8        12  2023-01-01  379.09   \n",
      "1                 2          236          34        16  2023-01-02   18.48   \n",
      "2                 3          334          50        20  2023-01-03  783.51   \n",
      "3                 4          325          46        20  2023-01-04  333.82   \n",
      "4                 5          332          89         6  2023-01-05  329.74   \n",
      "..              ...          ...         ...       ...         ...     ...   \n",
      "995             996          271          62         8  2025-09-22  268.09   \n",
      "996             997          380           9         4  2025-09-23  829.86   \n",
      "997             998           46          22        14  2025-09-24  603.12   \n",
      "998             999            2          85         8  2025-09-25  882.43   \n",
      "999            1000          253           4         8  2025-09-26  365.28   \n",
      "\n",
      "    product_name  \n",
      "0     Product_12  \n",
      "1     Product_16  \n",
      "2     Product_20  \n",
      "3     Product_20  \n",
      "4      Product_6  \n",
      "..           ...  \n",
      "995    Product_8  \n",
      "996    Product_4  \n",
      "997   Product_14  \n",
      "998    Product_8  \n",
      "999    Product_8  \n",
      "\n",
      "[1000 rows x 7 columns]\n"
     ]
    }
   ],
   "source": [
    "# join transactions and products tables to get names of the products purchassed for each transactions\n",
    "query = ''' \n",
    "SELECT transactions.*, products.product_name\n",
    "FROM transactions\n",
    "INNER JOIN products ON products.product_id = transactions.store_id\n",
    "'''\n",
    "\n",
    "result = pd.read_sql_query(query, con)\n",
    "print(result)"
   ]
  },
  {
   "cell_type": "code",
   "execution_count": 124,
   "metadata": {},
   "outputs": [
    {
     "name": "stdout",
     "output_type": "stream",
     "text": [
      "     amount product_name store_name\n",
      "0    379.09    Product_8   Store 12\n",
      "1     18.48   Product_34   Store 16\n",
      "2    783.51   Product_50   Store 20\n",
      "3    333.82   Product_46   Store 20\n",
      "4    329.74   Product_89    Store 6\n",
      "..      ...          ...        ...\n",
      "995  268.09   Product_62    Store 8\n",
      "996  829.86    Product_9    Store 4\n",
      "997  603.12   Product_22   Store 14\n",
      "998  882.43   Product_85    Store 8\n",
      "999  365.28    Product_4    Store 8\n",
      "\n",
      "[1000 rows x 3 columns]\n"
     ]
    }
   ],
   "source": [
    "# join transactions/products/stores for display products purchassed, its store and its amount\n",
    "query = ''' \n",
    "SELECT transactions.amount, products.product_name, stores.store_name\n",
    "FROM transactions\n",
    "INNER JOIN stores \n",
    "ON stores.store_id = transactions.store_id\n",
    "INNER JOIN products\n",
    "ON products.product_id = transactions.product_id\n",
    "'''\n",
    "\n",
    "result = pd.read_sql_query(query, con)\n",
    "print(result)"
   ]
  },
  {
   "cell_type": "code",
   "execution_count": 126,
   "metadata": {},
   "outputs": [
    {
     "name": "stdout",
     "output_type": "stream",
     "text": [
      "     transaction_id  customer_id  product_id  store_id        date  amount\n",
      "0               418            2          17        20  2024-02-22  556.39\n",
      "1               666            2         100         3  2024-10-27  669.64\n",
      "2               999            2          85         8  2025-09-25  882.43\n",
      "3               446            4          93         3  2024-03-21  171.69\n",
      "4               568            4          99         4  2024-07-21  847.98\n",
      "..              ...          ...         ...       ...         ...     ...\n",
      "781             345          498          60        15  2023-12-11  463.53\n",
      "782             958          498          98         4  2025-08-15  283.84\n",
      "783             127          499          34        10  2023-05-07  486.39\n",
      "784              12          500          81         1  2023-01-12   11.31\n",
      "785             604          500           5         5  2024-08-26  373.27\n",
      "\n",
      "[786 rows x 6 columns]\n"
     ]
    }
   ],
   "source": [
    "# list of transactions for costumers over 30 years \n",
    "query = ''' \n",
    "SELECT transactions.*\n",
    "FROM transactions\n",
    "INNER JOIN customers ON customers.customer_id = transactions.customer_id\n",
    "WHERE age > 30\n",
    "'''\n",
    "\n",
    "result = pd.read_sql_query(query, con)\n",
    "print(result)\n",
    "\n"
   ]
  },
  {
   "cell_type": "code",
   "execution_count": 129,
   "metadata": {},
   "outputs": [
    {
     "name": "stdout",
     "output_type": "stream",
     "text": [
      "     product_id product_name     category   price\n",
      "0            35   Product 35  Electronics  451.66\n",
      "1            83   Product 83  Electronics  350.40\n",
      "2            88   Product 88     Clothing   10.63\n",
      "3            89   Product 89     Clothing  125.60\n",
      "4            11   Product 11     Clothing  267.75\n",
      "..          ...          ...          ...     ...\n",
      "545          86   Product 86        Books  254.77\n",
      "546          60   Product 60     Clothing  402.04\n",
      "547          74   Product 74  Electronics  404.55\n",
      "548          98   Product 98        Books  412.89\n",
      "549          34   Product 34  Electronics  392.02\n",
      "\n",
      "[550 rows x 4 columns]\n"
     ]
    }
   ],
   "source": [
    "# list of products buying by male customers\n",
    "query = ''' \n",
    "SELECT products.*\n",
    "FROM products\n",
    "INNER JOIN transactions ON transactions.product_id = products.product_id\n",
    "INNER JOIN customers ON customers.customer_id = transactions.customer_id\n",
    "WHERE gender = \"Male\"\n",
    "'''\n",
    "\n",
    "result = pd.read_sql_query(query, con)\n",
    "print(result)"
   ]
  },
  {
   "cell_type": "code",
   "execution_count": 132,
   "metadata": {},
   "outputs": [
    {
     "name": "stdout",
     "output_type": "stream",
     "text": [
      "     customer_id customer_name  age  gender\n",
      "0            334  Customer 334   58    Male\n",
      "1            379  Customer 379   66  Female\n",
      "2             42   Customer 42   63  Female\n",
      "3             28   Customer 28   43  Female\n",
      "4            453  Customer 453   38    Male\n",
      "..           ...           ...  ...     ...\n",
      "497          351  Customer 351   28    Male\n",
      "498          189  Customer 189   47  Female\n",
      "499          380  Customer 380   33  Female\n",
      "500           46   Customer 46   30  Female\n",
      "501            2    Customer 2   40  Female\n",
      "\n",
      "[502 rows x 4 columns]\n"
     ]
    }
   ],
   "source": [
    "# find customers who made an amount transaction superior to the average transaction\n",
    "query = ''' \n",
    "SELECT customers.*\n",
    "FROM customers\n",
    "INNER JOIN transactions ON transactions.customer_id = customers.customer_id\n",
    "WHERE transactions.amount > (SELECT AVG(transactions.amount) FROM transactions)\n",
    "\n",
    "'''\n",
    "\n",
    "result = pd.read_sql_query(query, con)\n",
    "print(result)"
   ]
  },
  {
   "cell_type": "code",
   "execution_count": 135,
   "metadata": {},
   "outputs": [
    {
     "name": "stdout",
     "output_type": "stream",
     "text": [
      "    product_id product_name     category   price\n",
      "0            2    Product 2        Books  291.83\n",
      "1            3    Product 3        Books  295.06\n",
      "2            5    Product 5    Furniture  419.20\n",
      "3            8    Product 8        Books  388.96\n",
      "4            9    Product 9        Books  419.09\n",
      "5           10   Product 10  Electronics  332.69\n",
      "6           11   Product 11     Clothing  267.75\n",
      "7           12   Product 12     Clothing  450.63\n",
      "8           14   Product 14        Books  309.15\n",
      "9           15   Product 15  Electronics  480.60\n",
      "10          17   Product 17    Furniture  252.33\n",
      "11          18   Product 18  Electronics  273.78\n",
      "12          19   Product 19    Furniture  388.56\n",
      "13          20   Product 20        Books  400.85\n",
      "14          25   Product 25     Clothing  498.78\n",
      "15          27   Product 27     Clothing  404.44\n",
      "16          28   Product 28  Electronics  488.36\n",
      "17          29   Product 29    Furniture  430.69\n",
      "18          30   Product 30  Electronics  369.34\n",
      "19          31   Product 31        Books  488.03\n",
      "20          32   Product 32    Furniture  343.67\n",
      "21          34   Product 34  Electronics  392.02\n",
      "22          35   Product 35  Electronics  451.66\n",
      "23          40   Product 40     Clothing  378.11\n",
      "24          42   Product 42        Books  361.28\n",
      "25          43   Product 43    Furniture  296.08\n",
      "26          45   Product 45    Furniture  332.89\n",
      "27          47   Product 47        Books  265.57\n",
      "28          48   Product 48  Electronics  260.71\n",
      "29          50   Product 50        Books  291.19\n",
      "30          53   Product 53     Clothing  400.67\n",
      "31          55   Product 55        Books  325.64\n",
      "32          57   Product 57    Furniture  285.73\n",
      "33          60   Product 60     Clothing  402.04\n",
      "34          61   Product 61        Books  456.27\n",
      "35          65   Product 65        Books  280.82\n",
      "36          66   Product 66  Electronics  481.85\n",
      "37          68   Product 68    Furniture  338.24\n",
      "38          71   Product 71     Clothing  408.40\n",
      "39          72   Product 72        Books  476.81\n",
      "40          74   Product 74  Electronics  404.55\n",
      "41          77   Product 77     Clothing  264.90\n",
      "42          78   Product 78     Clothing  270.15\n",
      "43          79   Product 79        Books  496.40\n",
      "44          82   Product 82  Electronics  482.74\n",
      "45          83   Product 83  Electronics  350.40\n",
      "46          86   Product 86        Books  254.77\n",
      "47          93   Product 93  Electronics  484.12\n",
      "48          95   Product 95     Clothing  267.34\n",
      "49          98   Product 98        Books  412.89\n",
      "50         100  Product 100     Clothing  352.12\n"
     ]
    }
   ],
   "source": [
    "# list products with a price superior to the average price in their category \n",
    "query = ''' \n",
    "SELECT products.*\n",
    "FROM products\n",
    "WHERE price > (SELECT AVG(price) FROM products WHERE products.category = products.category)\n",
    "'''\n",
    "\n",
    "result = pd.read_sql_query(query, con)\n",
    "print(result)"
   ]
  },
  {
   "cell_type": "code",
   "execution_count": 139,
   "metadata": {},
   "outputs": [
    {
     "name": "stdout",
     "output_type": "stream",
     "text": [
      "     customer_id  total_amount\n",
      "0              1       2528.13\n",
      "1              2       2108.46\n",
      "2              4       1447.50\n",
      "3              5        574.77\n",
      "4              6       1934.12\n",
      "..           ...           ...\n",
      "338          494       2268.27\n",
      "339          495       1814.12\n",
      "340          496       2437.91\n",
      "341          497       1821.58\n",
      "342          498       1672.92\n",
      "\n",
      "[343 rows x 2 columns]\n"
     ]
    }
   ],
   "source": [
    "# use CTE for calculate total amount of transaction per customers, then list customers who made over 500 of transactions\n",
    "query = ''' \n",
    "WITH TotalSpent AS (\n",
    "    SELECT customer_id, SUM(amount) AS total_amount\n",
    "    FROM transactions\n",
    "    GROUP BY customer_id\n",
    ")\n",
    "SELECT customer_id, total_amount\n",
    "FROM TotalSpent\n",
    "WHERE total_amount > 500\n",
    "'''\n",
    "\n",
    "result = pd.read_sql_query(query, con)\n",
    "print(result)"
   ]
  }
 ],
 "metadata": {
  "kernelspec": {
   "display_name": "Python 3",
   "language": "python",
   "name": "python3"
  },
  "language_info": {
   "codemirror_mode": {
    "name": "ipython",
    "version": 3
   },
   "file_extension": ".py",
   "mimetype": "text/x-python",
   "name": "python",
   "nbconvert_exporter": "python",
   "pygments_lexer": "ipython3",
   "version": "3.10.11"
  }
 },
 "nbformat": 4,
 "nbformat_minor": 2
}
